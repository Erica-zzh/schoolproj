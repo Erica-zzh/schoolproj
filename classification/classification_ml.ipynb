{
  "nbformat": 4,
  "nbformat_minor": 0,
  "metadata": {
    "colab": {
      "provenance": []
    },
    "kernelspec": {
      "name": "python3",
      "display_name": "Python 3"
    },
    "language_info": {
      "name": "python"
    }
  },
  "cells": [
    {
      "cell_type": "markdown",
      "source": [
        "Collaborator: Shuo Wang 1005732049"
      ],
      "metadata": {
        "id": "QlWggFYMuHAa"
      }
    },
    {
      "cell_type": "markdown",
      "source": [
        "Last Edited: 2024-01-23\n",
        "\n",
        "Changes:\n"
      ],
      "metadata": {
        "id": "fBeKYERsR9b6"
      }
    },
    {
      "cell_type": "markdown",
      "source": [
        "- **Deadline**: Feb 5, at 23:59PM.\n",
        "- **Submission**: You need to submit your solutions through Crowdmark, including all your derivations, plots, and your code. You can produce the files however you like (e.g. LATEX, Microsoft Word, etc), as long as it is readable. Points will be deducted if we have a hard time reading your solutions or understanding the structure of your code.\n",
        "- **Collaboration policy**: After attempting the problems on an individual basis, you may discuss and work together on the assignment with up to two classmates. However, **you must write your own code and write up your own solutions individually and explicitly name any collaborators** at the top of the homework."
      ],
      "metadata": {
        "id": "ZD9tV8zbU2dp"
      }
    },
    {
      "cell_type": "markdown",
      "source": [
        "# Q1 - Decision Theory"
      ],
      "metadata": {
        "id": "QI9CD9BCoh5a"
      }
    },
    {
      "cell_type": "markdown",
      "source": [
        "One successful use of probabilistic models is for building spam filters, which take in an email and take different actions depending on the likelihood that it’s spam.\n",
        "\n",
        "Imagine you are running an email service. You have a well-calibrated spam classifier that tells you the probability that a particular email is spam: $p(spam|email)$. You have three options for what to do with each email: You can list it as important email, show it to the user, put it in the spam folder, or delete it entirely.\n",
        "\n",
        "Depending on whether or not the email really is spam, the user will suffer a different amount  of wasted time for the different actions we can take, $L$(action, spam):\n",
        "\n",
        "Action   | Spam        | Not spam\n",
        "-------- | ----------- | -----------\n",
        "Important| 15         | 0\n",
        "Show     | 5          | 1\n",
        "Folder   | 1           | 40\n",
        "Delete   | 0           | 150"
      ],
      "metadata": {
        "id": "lqGwGkzkokTV"
      }
    },
    {
      "cell_type": "markdown",
      "source": [],
      "metadata": {
        "id": "MrQFeFh6eq1f"
      }
    },
    {
      "cell_type": "markdown",
      "source": [
        "## Q1.1\n",
        "[3pts] Plot the expected wasted user time for each of the three possible actions, as a function of the probability of spam: $p(spam|email)$."
      ],
      "metadata": {
        "id": "2V_k3L8ByUs9"
      }
    },
    {
      "cell_type": "code",
      "source": [
        "import numpy as np\n",
        "import matplotlib.pyplot as plt"
      ],
      "metadata": {
        "id": "rAwFc8cVSXtW"
      },
      "execution_count": null,
      "outputs": []
    },
    {
      "cell_type": "code",
      "source": [
        "losses = [[15, 0],[5, 1], [1, 40],[0, 150]]\n",
        "actions_names = ['Important','Show', 'Folder', 'Delete']\n",
        "num_actions = len(losses)\n",
        "\n",
        "def expected_loss_of_action(prob_spam, action):\n",
        "    #TODO: Return expected loss over a Bernoulli random variable\n",
        "    # with mean prob_spam.\n",
        "    # Losses are given by the table above.\n",
        "  exp_loss = []\n",
        "  if action == 0:  \n",
        "    exp_loss = [x * 15 for x in prob_spam] \n",
        "  elif action == 1:\n",
        "    exp_loss = [x * 5 + (1 - x) for x in prob_spam] \n",
        "  elif action == 2:\n",
        "    exp_loss = [x + 40 * (1 - x) for x in prob_spam] \n",
        "  elif action == 3:\n",
        "    exp_loss = [150 * (1 - x) for x in prob_spam] \n",
        "  return exp_loss\n",
        "\n",
        "prob_range = np.linspace(0., 1., num=600)\n",
        "\n",
        "# Make plot\n",
        "for action in range(num_actions):\n",
        "  plt.plot(prob_range, expected_loss_of_action(prob_range, action), label=actions_names[action])\n",
        "\n",
        "plt.xlabel('$p(spam|email)$')\n",
        "plt.ylabel('Expected loss of action')\n",
        "plt.legend()\n"
      ],
      "metadata": {
        "id": "CwqF1QStyUI0",
        "outputId": "840870a7-a2aa-41f5-fb27-c57a4153c8ba",
        "colab": {
          "base_uri": "https://localhost:8080/",
          "height": 301
        }
      },
      "execution_count": null,
      "outputs": [
        {
          "output_type": "execute_result",
          "data": {
            "text/plain": [
              "<matplotlib.legend.Legend at 0x7f3ebc7302e0>"
            ]
          },
          "metadata": {},
          "execution_count": 3
        },
        {
          "output_type": "display_data",
          "data": {
            "text/plain": [
              "<Figure size 432x288 with 1 Axes>"
            ],
            "image/png": "[encoded data removed]"
          },
          "metadata": {
            "needs_background": "light"
          }
        }
      ]
    },
    {
      "cell_type": "markdown",
      "source": [
        "## Q1.2\n",
        "[2pts] Write a function that computes the optimal action given the probability of spam."
      ],
      "metadata": {
        "id": "oqtMD5X4NZ1d"
      }
    },
    {
      "cell_type": "code",
      "source": [
        "def optimal_action(prob_spam):\n",
        "    #TODO: return best action given the probability of spam. \n",
        "    #Hint: np.argmin might be helpful.\n",
        "\n",
        "    # Calcuate the mean of the expected losses given probability of spam\n",
        "    loss = []; loss_i = 0; loss_s = 0; loss_f = 0; loss_d = 0; min_i = 0\n",
        "    loss_i = sum(expected_loss_of_action(prob_spam, 0))/len(expected_loss_of_action(prob_spam, 0))\n",
        "    loss_s = sum(expected_loss_of_action(prob_spam, 1))/len(expected_loss_of_action(prob_spam, 1))\n",
        "    loss_f = sum(expected_loss_of_action(prob_spam, 2))/len(expected_loss_of_action(prob_spam, 2))\n",
        "    loss_d = sum(expected_loss_of_action(prob_spam, 3))/len(expected_loss_of_action(prob_spam, 3))\n",
        "    loss = [loss_i, loss_s, loss_f, loss_d]\n",
        "    min_i = np.argmin([loss])\n",
        "\n",
        "    if min_i == 0:\n",
        "      return \"Important\"\n",
        "    elif min_i == 1:\n",
        "      return \"Show\"\n",
        "    elif min_i == 2:\n",
        "      return \"Folder\"  \n",
        "    elif min_i == 3:\n",
        "      return \"Delete\"\n",
        "    else:\n",
        "      return None\n",
        "\n",
        "\n",
        "    "
      ],
      "metadata": {
        "id": "7gLS3sO1NiPv"
      },
      "execution_count": null,
      "outputs": []
    },
    {
      "cell_type": "markdown",
      "source": [
        "## Q1.3\n",
        "[4pts] Plot the expected loss of the optimal action as a function of the probability of spam.\n",
        "\n",
        "\n",
        "Color the line according to the optimal action for that probability of spam.\n"
      ],
      "metadata": {
        "id": "TaIhABveNinu"
      }
    },
    {
      "cell_type": "code",
      "source": [
        "prob_range = np.linspace(0., 1., num=600) \n",
        "optimal_losses = []\n",
        "optimal_actions = []\n",
        "\n",
        "optimal_losses_i = []; optimal_losses_s = []; optimal_losses_f = []; optimal_losses_d = []\n",
        "prob_i = []; prob_s = []; prob_f = []; prob_d = []\n",
        "\n",
        "for p in prob_range:\n",
        "    # TODO: Compute the optimal action and its expected loss for\n",
        "    # probability of spam given by p.\n",
        "    if optimal_action([p]) == \"Important\":\n",
        "      optimal_losses_i.append(expected_loss_of_action([p], 0))\n",
        "      prob_i.append(p)\n",
        "    elif optimal_action([p]) == \"Show\":\n",
        "      optimal_losses_s.append(expected_loss_of_action([p], 1))\n",
        "      prob_s.append(p)\n",
        "    elif optimal_action([p]) == \"Folder\":\n",
        "      optimal_losses_f.append(expected_loss_of_action([p], 2))\n",
        "      prob_f.append(p)\n",
        "    elif optimal_action([p]) == \"Delete\":\n",
        "      optimal_losses_d.append(expected_loss_of_action([p], 3))\n",
        "      prob_d.append(p)\n",
        "\n",
        "plt.xlabel('p(spam|email)')\n",
        "plt.ylabel('Expected loss of optimal action')\n",
        "plt.plot(prob_i, optimal_losses_i)\n",
        "plt.plot(prob_s, optimal_losses_s)\n",
        "plt.plot(prob_f, optimal_losses_f)\n",
        "plt.plot(prob_d, optimal_losses_d)\n",
        "\n"
      ],
      "metadata": {
        "id": "Gdk3OQLONo-P",
        "colab": {
          "base_uri": "https://localhost:8080/",
          "height": 298
        },
        "outputId": "2805f201-6997-4c11-cc3f-2778ff54ac8e"
      },
      "execution_count": null,
      "outputs": [
        {
          "output_type": "execute_result",
          "data": {
            "text/plain": [
              "[<matplotlib.lines.Line2D at 0x7f3ebb12deb0>]"
            ]
          },
          "metadata": {},
          "execution_count": 7
        },
        {
          "output_type": "display_data",
          "data": {
            "text/plain": [
              "<Figure size 432x288 with 1 Axes>"
            ],
            "image/png": "[encoded data removed]"
          },
          "metadata": {
            "needs_background": "light"
          }
        }
      ]
    },
    {
      "cell_type": "markdown",
      "source": [
        "## Q1.4\n",
        "[4pts] For exactly which range of the probabilities of an email being spam should we delete an email?\n",
        "\n",
        "Find the exact answer by hand using algebra."
      ],
      "metadata": {
        "id": "M0eRJyGdNpXA"
      }
    },
    {
      "cell_type": "markdown",
      "source": [
        "\n",
        "        \n",
        "$150(1-x) < 15x => x > \\frac{10}{11}$\n",
        "\n",
        "$150(1-x) < x + 40(1-x) => x > \\frac{110}{111}$\n",
        "\n",
        "$150(1-x) < 5x + (1-x) => x > \\frac{149}{154}$\n",
        "\n",
        "$\\frac{110}{111} < x < 1$\n",
        "\n",
        "\n",
        "\n",
        "\n",
        "\n",
        "Your answer: $(\\frac{10}{11}, 1]$\n",
        "\n"
      ],
      "metadata": {
        "id": "fr_ghgvoUz5p"
      }
    },
    {
      "cell_type": "markdown",
      "source": [
        "# Q2 - Naïve Bayes, A Generative Model"
      ],
      "metadata": {
        "id": "H1kRdfM6ol0R"
      }
    },
    {
      "cell_type": "markdown",
      "source": [
        "![](https://github.com/zalandoresearch/fashion-mnist/blob/master/doc/img/fashion-mnist-sprite.png?raw=true)\n",
        "\n",
        "\n",
        "In this question, we'll fit a Naïve Bayes model to the fashion MNIST dataset, and use this model for making predictions and generating new images from the same distribution. MNIST is a dataset of 28x28 black-and-white images of items of clothing. We represent each image by a vector $x^{(i)} \\in \\{0,1\\}^{784}$, where 0 and 1 represent white and black pixels respectively. Each class label $c^{(i)}$ is a different item of clothing, which in the code is represented by a 10-dimensional one-hot vector.\n",
        "\n",
        "The Naïve Bayes model parameterized by $\\theta$ and $\\pi$ defines the following joint probability of $x$ and $c$,\n",
        "$$p(x,c|\\theta,\\pi) = p(c|\\pi)p(x|c,\\theta) = p(c|\\pi)\\prod_{j=1}^{784}p(x_j|c,\\theta),$$\n",
        "where $x_j | c,\\theta \\sim \\operatorname{Bernoulli}(\\theta_{jc})$ or in other words $p(x_j | c,\\theta) = \\theta_{jc}^{x_j}(1-\\theta_{jc})^{1-x_j}$, and $c|\\pi$ follows a simple categorical distribution, i.e. $p(c|\\pi) = \\pi_c$.\n",
        "\n",
        "We begin by learning the parameters $\\theta$ and $\\pi$. The following code will download and prepare the training and test sets."
      ],
      "metadata": {
        "id": "Je6H8FAKpqmF"
      }
    },
    {
      "cell_type": "code",
      "source": [
        "import numpy as np\n",
        "import random\n",
        "import os\n",
        "import gzip\n",
        "import struct\n",
        "import array\n",
        "import matplotlib.pyplot as plt\n",
        "import matplotlib.image\n",
        "from urllib.request import urlretrieve\n",
        "\n",
        "def download(url, filename):\n",
        "    if not os.path.exists('data'):\n",
        "        os.makedirs('data')\n",
        "    out_file = os.path.join('data', filename)\n",
        "    if not os.path.isfile(out_file):\n",
        "        urlretrieve(url, out_file)\n",
        "\n",
        "\n",
        "def fashion_mnist():\n",
        "    base_url = 'http://fashion-mnist.s3-website.eu-central-1.amazonaws.com/'\n",
        "\n",
        "    def parse_labels(filename):\n",
        "        with gzip.open(filename, 'rb') as fh:\n",
        "            magic, num_data = struct.unpack(\">II\", fh.read(8))\n",
        "            return np.array(array.array(\"B\", fh.read()), dtype=np.uint8)\n",
        "\n",
        "    def parse_images(filename):\n",
        "        with gzip.open(filename, 'rb') as fh:\n",
        "            magic, num_data, rows, cols = struct.unpack(\">IIII\", fh.read(16))\n",
        "            return np.array(array.array(\"B\", fh.read()), dtype=np.uint8).reshape(num_data, rows, cols)\n",
        "\n",
        "    for filename in ['train-images-idx3-ubyte.gz',\n",
        "                     'train-labels-idx1-ubyte.gz',\n",
        "                     't10k-images-idx3-ubyte.gz',\n",
        "                     't10k-labels-idx1-ubyte.gz']:\n",
        "        download(base_url + filename, filename)\n",
        "\n",
        "    train_images = parse_images('data/train-images-idx3-ubyte.gz')\n",
        "    train_labels = parse_labels('data/train-labels-idx1-ubyte.gz')\n",
        "    test_images = parse_images('data/t10k-images-idx3-ubyte.gz')\n",
        "    test_labels = parse_labels('data/t10k-labels-idx1-ubyte.gz')\n",
        "    # Remove the data point that cause log(0)\n",
        "    remove = (14926, 20348, 36487, 45128, 50945, 51163, 55023)\n",
        "    train_images = np.delete(train_images,remove, axis=0)\n",
        "    train_labels = np.delete(train_labels, remove, axis=0)\n",
        "    return train_images, train_labels, test_images[:1000], test_labels[:1000]\n",
        "\n",
        "\n",
        "def load_fashion_mnist():\n",
        "    partial_flatten = lambda x: np.reshape(x, (x.shape[0], np.prod(x.shape[1:])))\n",
        "    one_hot = lambda x, k: np.array(x[:, None] == np.arange(k)[None, :], dtype=int)\n",
        "    train_images, train_labels, test_images, test_labels =  fashion_mnist()\n",
        "    train_images = (partial_flatten(train_images) / 255.0 > .5).astype(float)\n",
        "    test_images = (partial_flatten(test_images) / 255.0 > .5).astype(float)\n",
        "    train_labels = one_hot(train_labels, 10)\n",
        "    test_labels = one_hot(test_labels, 10)\n",
        "    N_data = train_images.shape[0]\n",
        "\n",
        "    return N_data, train_images, train_labels, test_images, test_labels"
      ],
      "metadata": {
        "id": "k587bbiSvhB4"
      },
      "execution_count": 3,
      "outputs": []
    },
    {
      "cell_type": "markdown",
      "source": [
        "## Q2.1\n",
        "[2pts] Derive the expression for the Maximum Likelihood Estimator (MLE) of $\\theta$ and $\\pi$."
      ],
      "metadata": {
        "id": "qgGhDuEBvuMI"
      }
    },
    {
      "cell_type": "markdown",
      "source": [
        "\n",
        "The likelihood function is:\n",
        "\n",
        "\\begin{align}\n",
        "L &= P(x_1,...,x_N, c^i|\\theta, \\pi)\\\\\n",
        "&= \\prod_{i=1}^N[P(c^i|\\pi)\\prod_{j=1}^{784}P(x^i_j|c^i,\\theta)]\n",
        "\\end{align}\n",
        "\n",
        "The log-likelihood function is:\n",
        "\\begin{align}\n",
        "        l &= log\\prod_{i=1}^N[P(c^i|\\pi)\\prod_{j=1}^{784}P(x_j|c^i,\\theta)]\\\\\n",
        "        &= \\sum_{i=1}^N[logP(c^i|\\pi)+log\\sum_{j=1}^{784}P(x^i_j|c^i,\\theta)]\\\\\n",
        "        &= \\sum_{i=1}^NlogP(c^i|\\pi)+\\sum_{i=1}^N\\sum_{j=1}^{784}logP(x^i_j|c^i,\\theta)\\\\\n",
        "        &= \\sum_{i=1}^Nlog\\pi^{c^i}(1-\\pi)^{1-c^i}+\\sum_{i=1}^N\\sum_{j=1}^{784}log\\theta_{jc}^{x_j^i}(1-\\theta_{jc})^{1-x_j^i}\n",
        "\\end{align}\n",
        "\n",
        "The first term: \n",
        "\n",
        "\\begin{align}\n",
        "l_1&=  \\sum_{i=1}^Nlog\\pi^{c^i}(1-\\pi)^{1-c^i} \\\\\n",
        "&= \\sum_{i=1}^Nc^ilog\\pi+\\sum_{i=1}^N(1-c^i)log(1-\\pi)\n",
        "\\end{align}\n",
        "\n",
        "\\begin{align}\n",
        "\\frac{\\partial l_1}{\\partial\\pi} = \\sum_{i=1}^N\\frac{c^i}{\\pi} - \\sum_{i=1}^N\\frac{1-c^i}{1-\\pi} &= 0\\\\\n",
        "\\sum_{i=1}^Nc^i-\\sum_{i=1}^N\\pi &=0\\\\\n",
        "N\\pi &= \\sum_{i=1}^Nc^i\\\\\n",
        "\\hat{\\pi} &= \\frac{\\sum_{i=1}^Nc^i}{N} = \\frac{\\sum_i1[c^i = 1]}{N}\n",
        "\\end{align}\n",
        "\n",
        "The second term:\n",
        "\n",
        "\\begin{align}\n",
        "l_2 &= \\sum_{i=1}^Nlog\\theta_{jc}^{x_j^i}(1-\\theta_{jc})^{1-x_j^i}\\\\\n",
        "&= \\sum_{i=1}^N[x_j^ilog\\theta_{jc} + (1-x_j^i)log(1-\\theta_{jc})]\\\\\n",
        "&=\\sum_{i=1}^Nc^i[x_j^ilog\\theta_{j1}+(1-x_j^i)log(1-\\theta_{j1})] \\\\\n",
        "&+\\sum_{i=1}^N(1-c^i)[x_j^ilog\\theta_{j0}+(1-x_j^i)log(1-\\theta_{j_0})]\n",
        "\\end{align}\n",
        "\n",
        "For $c = 1$:\n",
        "\n",
        "\\begin{align}\n",
        "\\frac{\\partial l_2}{\\partial\\theta} = \\sum_{i=1}^N \\frac{c^ix_j^i}{\\theta_{j1}}-\\sum_{i=1}^N\\frac{c^i(1-x_j^i)}{1-\\theta_{j1}} &= 0\\\\\n",
        "\\sum_{i=1}^Nc^i\\theta_{j1}&= \\sum_{i=1}^Nc^ix_j^i\\\\\n",
        "\\hat{\\theta}_{j1} &=  \\frac{\\sum_{i=1}^Nc^ix_j^i}{\\sum_{i=1}^Nc^i} = \\frac{\\sum_i 1[x_j^i = 1 \\&c^i = 1]}{\\sum_i 1[c^i=1]}\n",
        "\\end{align}\n",
        "\n",
        "Similarly for $c = 0$:\n",
        "\n",
        "\\begin{align}\n",
        "\\hat{\\theta}_{j0} = \\frac{\\sum_i 1[x_j^i = 1 \\&c^i = 0]}{\\sum_i 1[c^i=0]}\n",
        "\\end{align}\n",
        "\n",
        "Thus,\n",
        "\n",
        "\\begin{align}\n",
        "\\hat{\\theta}_{jc} = \\frac{\\sum_i 1[x_j^i = 1 \\&c^i = c]}{\\sum_i 1[c^i=c]}\n",
        "\\end{align}\n",
        "\n",
        "\n",
        "Your answer: $\\hat{\\pi} = \\frac{\\sum_i1[c^i = 1]}{N}$, $\\hat{\\theta}_{jc} = \\frac{\\sum_i 1[x_j^i = 1 \\&c^i = c]}{\\sum_i 1[c^i=c]}$\n",
        "\n",
        "Reference: Week2 Tutorial Notes\n"
      ],
      "metadata": {
        "id": "cISpi3BUOdEp"
      }
    },
    {
      "cell_type": "markdown",
      "source": [
        "## Q2.2\n",
        "[4pts] Using the MLE for this data, many entries of $\\theta$ will be estimated to be 0, which seems extreme. So we look for another estimation method.\n",
        "\n",
        "Assume the prior distribution of $\\theta$ is such that the entries are i.i.d. and drawn from $\\operatorname{Beta}(2,2)$. Derive the Maximum A Posteriori (MAP) estimator for $\\theta$ (it has a simple final form). You can return the MLE for $\\pi$ in your implementation. From now on, we will work with this estimator."
      ],
      "metadata": {
        "id": "gTMSP01Sw-F5"
      }
    },
    {
      "cell_type": "markdown",
      "source": [
        "\\begin{align}\n",
        "\\hat{\\theta}_{jc,map} &= argmax_{\\theta_{jc}}P(\\theta_{jc}|x_j, c)\\\\\n",
        "&= argmax_{\\theta_{jc}}\\prod_{i=1}^N\\pi_c\\prod_{j=1}^{784}\\theta_{jc}^{x_j^i}(1 -\\theta_{jc})^{1-x_j^i}Beta(2,2)\\\\\n",
        "&= argmax_{\\theta_{jc}}\\prod_{i=1}^N\\pi_c\\prod_{j=1}^{784}\\theta_{jc}^{x_j^i}(1 -\\theta_{jc})^{1-x_j^i} \\frac{\\theta_{jc}^{2-1}(1-\\theta_{jc})^{2-1}} {B(2,2)}\\\\\n",
        "&\\propto argmax_{\\theta_{jc}} \\theta_{jc}^{\\sum_i1[c^i = c]x_j^i+2-1}(1-\\theta_{jc})^{\\sum_i1[c^i = c](1-x_j^i)+2-1}\n",
        "\\end{align}\n",
        "\n",
        "Notice the form of a Beta posterior with $\\alpha' = \\sum_i1[c^i = c]x_j^i+2$ and $\\beta'= \\sum_i1[c^i = c](1-x_j^i)+2$\n",
        "\n",
        "Therefore, the MAP estimator is the mode $\\hat{\\theta}_{jc,map} = \\frac{\\alpha'-1}{\\alpha'+\\beta'-2}$, where $\\alpha'$ and $\\beta'$ are described above.\n",
        "\n",
        "Your answer:  $\\hat{\\theta}_{jc,map} = \\frac{\\alpha'-1}{\\alpha'+\\beta'-2}$, where $\\alpha' = \\sum_i^N1[c^i = c]x_j^i+2$ and $\\beta'= \\sum_i^N1[c^i = c](1-x_j^i)+2$\n",
        "\n",
        "Reference:\n",
        "https://web.stanford.edu/class/archive/cs/cs109/cs109.1206/lectureNotes/LN22_map.pdf\n",
        "\n",
        "http://www.mi.fu-berlin.de/wiki/pub/ABI/Genomics12/MLvsMAP.pdf\n"
      ],
      "metadata": {
        "id": "uI3hcFf1Of82"
      }
    },
    {
      "cell_type": "code",
      "source": [
        "def train_map_estimator(train_images, train_labels):\n",
        "    \"\"\" Inputs: train_images (N_samples x N_features), train_labels (N_samples x N_classes)\n",
        "        Returns the MAP estimator theta_est (N_features x N_classes) and the MLE\n",
        "        estimator pi_est (N_classes)\"\"\"\n",
        "    N = len(train_images)\n",
        "    #N_features x N_classes 784 x 10\n",
        "    x_class = np.matmul(np.transpose(train_images), train_labels) \n",
        "    #MAP estimator of theta\n",
        "    theta_est = (x_class + 1)/(N+2)\n",
        "    #MLE estimator of pi\n",
        "    pi_est = sum(train_labels)/N\n",
        "\n",
        "    return theta_est, pi_est\n",
        "\n",
        "\n",
        "\n"
      ],
      "metadata": {
        "id": "v49Abi0uxeII"
      },
      "execution_count": 4,
      "outputs": []
    },
    {
      "cell_type": "code",
      "source": [
        "train_map_estimator(train_images, train_labels)[0]"
      ],
      "metadata": {
        "colab": {
          "base_uri": "https://localhost:8080/",
          "height": 169
        },
        "id": "KnUqdBC5xpH6",
        "outputId": "05ba07b3-03e6-4f68-c5ed-f98a818c93d4"
      },
      "execution_count": 5,
      "outputs": [
        {
          "output_type": "error",
          "ename": "NameError",
          "evalue": "ignored",
          "traceback": [
            "\u001b[0;31m---------------------------------------------------------------------------\u001b[0m",
            "\u001b[0;31mNameError\u001b[0m                                 Traceback (most recent call last)",
            "\u001b[0;32m<ipython-input-5-d441433e5bca>\u001b[0m in \u001b[0;36m<module>\u001b[0;34m\u001b[0m\n\u001b[0;32m----> 1\u001b[0;31m \u001b[0mtrain_map_estimator\u001b[0m\u001b[0;34m(\u001b[0m\u001b[0mtrain_images\u001b[0m\u001b[0;34m,\u001b[0m \u001b[0mtrain_labels\u001b[0m\u001b[0;34m)\u001b[0m\u001b[0;34m[\u001b[0m\u001b[0;36m0\u001b[0m\u001b[0;34m]\u001b[0m\u001b[0;34m\u001b[0m\u001b[0;34m\u001b[0m\u001b[0m\n\u001b[0m",
            "\u001b[0;31mNameError\u001b[0m: name 'train_images' is not defined"
          ]
        }
      ]
    },
    {
      "cell_type": "markdown",
      "source": [
        "## Q2.3\n",
        "[5pts] Derive an expression for the class log-likelihood $\\log p(c|x,\\theta,\\pi)$ for a single image. Then, complete the implementation of the following functions. Recall that our prediction rule is to choose the class that maximizes the above log-likelihood, and accuracy is defined as the fraction of samples that are correctly predicted.\n",
        "\n",
        "Report the average log-likelihood $\\frac{1}{N}\\sum_{i=1}^{N}\\log p(c^{(i)}|x^{(i)},\\hat{\\theta},\\hat{\\pi})$ (where $N$ is the number of samples) on the training test, as well the training and test errors."
      ],
      "metadata": {
        "id": "7yO5yq0dyus4"
      }
    },
    {
      "cell_type": "markdown",
      "source": [
        "\\begin{align}\n",
        "log p(c|x,\\theta, \\pi) &= log\\frac{\\pi_c\\prod_{j=1}^{784}p(x_j^i|c,\\theta_{jc}, \\pi)}{\\sum_{d=1}^{10}\\pi_{c_d}p(x_j^i|c_d,\\theta_{jc_d}, \\pi)}\\\\\n",
        "&= log \\frac{\\pi_c\\prod_{j=1}^{784}p(x_j^i|c,\\theta_{jc}, \\pi)}{C}\\\\\n",
        "&\\propto log [\\pi_c\\prod_{j=1}^{784}p(x_j^i|c,\\theta_{jc}, \\pi)]\\\\\n",
        "&=log[\\pi_c\\prod_{j=1}^{784}\\theta_{jc}^{x_j}(1-\\theta_{jc})^{1-x_j}]\\\\\n",
        "&= log\\pi_c+\\sum_{j=1}^{784}[x_jlog\\theta_{jc}+(1-x_j)log(1-\\theta_{jc})]\n",
        "\\end{align}\n",
        "\n",
        "Your answer:\n"
      ],
      "metadata": {
        "id": "36FW8dZpOhb7"
      }
    },
    {
      "cell_type": "code",
      "source": [
        "def log_likelihood(images, theta, pi):\n",
        "    \"\"\" Inputs: images (N_samples x N_features), theta, pi\n",
        "        Returns the matrix 'log_like' of loglikehoods over the input images where\n",
        "        log_like[i,c] = log p (c |x^(i), theta, pi) using the estimators theta and pi.\n",
        "        log_like is a matrix of (N_samples x N_classes)\n",
        "    Note that log likelihood is not only for c^(i), it is for all possible c's.\"\"\"\n",
        "    C = theta.shape[1]\n",
        "    log_like = np.log(pi) + images@np.log(theta)+(1-images)@np.log(1-theta)\n",
        "    return log_like\n",
        "    \n",
        "\n",
        "\n",
        "def accuracy(log_like, labels):\n",
        "    \"\"\" Inputs: matrix of log likelihoods and 1-of-K labels (N_samples x N_classes)\n",
        "    Returns the accuracy based on predictions from log likelihood values\"\"\"\n",
        "    N = log_like.shape[0]\n",
        "    max_index = []\n",
        "    pred = np.zeros((N, log_like.shape[1]))\n",
        "    \n",
        "    for i in range(N):\n",
        "      max_index.append(np.argmax(log_like[i]))\n",
        "      pred[i][max_index[i]] = 1\n",
        "    \n",
        "    error = pred != labels\n",
        "\n",
        "    return sum(error.sum(axis = 0))/N\n",
        "\n",
        "\n",
        "N_data, train_images, train_labels, test_images, test_labels = load_fashion_mnist()\n",
        "theta_est, pi_est = train_map_estimator(train_images, train_labels)\n",
        "\n",
        "loglike_train = log_likelihood(train_images, theta_est, pi_est)\n",
        "avg_loglike = np.sum(loglike_train * train_labels) / N_data\n",
        "train_accuracy = accuracy(loglike_train, train_labels)\n",
        "loglike_test = log_likelihood(test_images, theta_est, pi_est)\n",
        "test_accuracy = accuracy(loglike_test, test_labels)\n",
        "\n",
        "print(f\"Average log-likelihood for MAP is {avg_loglike:.3f}\")\n",
        "print(f\"Training accuracy for MAP is {train_accuracy:.3f}\")\n",
        "print(f\"Test accuracy for MAP is {test_accuracy:.3f}\")"
      ],
      "metadata": {
        "id": "6RZwBnVh0Zoo",
        "colab": {
          "base_uri": "https://localhost:8080/"
        },
        "outputId": "c1a87a52-e7f0-46ae-979b-99b6b3a4996f"
      },
      "execution_count": 7,
      "outputs": [
        {
          "output_type": "stream",
          "name": "stdout",
          "text": [
            "Average log-likelihood for MAP is -723.493\n",
            "Training accuracy for MAP is 0.984\n",
            "Test accuracy for MAP is 0.966\n"
          ]
        }
      ]
    },
    {
      "cell_type": "markdown",
      "source": [
        "## Q2.4\n",
        "[2pts] Given this model's assumptions, is it always true that any two pixels $x_i$ and $x_j$ with $i \\neq j$ are indenepdent given $c$? How about after marginalizing over $c$? Explain your answer."
      ],
      "metadata": {
        "id": "qFJkXeMK2mwP"
      }
    },
    {
      "cell_type": "markdown",
      "source": [
        "\n",
        "Your answer:\n",
        "\n",
        "The Naive Bayes classifier assumes that the presence of a particular feature in a class is independent of the presence of any other features in the class. Therefore, any two distinct pixcels are independent of each other given the same class. \n",
        "\n",
        "If we marginalize over the class, then we can only consider unconditional independence, and it may not hold in this case. If we observe the location of one particular pixcel on an image in a class, then we may expect that the pixcel will have the same location on the other images in the class. Thus, there may exist correlation between the location of pixcels. "
      ],
      "metadata": {
        "id": "ImntAmpWOjYe"
      }
    },
    {
      "cell_type": "markdown",
      "source": [
        "## Q2.5 \n",
        "[4pts] Since we have a generative model for our data, we can do more than just prediction. Randomly sample and plot 10 images from the learned distribution using the MAP estimates. (Hint: You first need to sample the class $c$, and then sample pixels conditioned on $c$.)"
      ],
      "metadata": {
        "id": "_P4Y1x_G28QD"
      }
    },
    {
      "cell_type": "code",
      "source": [
        "def image_sampler(theta, pi, num_images):\n",
        "    \"\"\" Inputs: parameters theta and pi, and number of images to sample\n",
        "    Returns the sampled images (N_images x N_features)\"\"\"\n",
        "    Nc = 10\n",
        "    Np = 784\n",
        "    pix = np.zeros((Np, num_images))\n",
        "    x = []\n",
        "    c = []\n",
        "    \n",
        "    for i in range(num_images):\n",
        "      c.append(random.randint(1, num_images)) #num_image x 1\n",
        "      p = [0]*784\n",
        "      for j in range(784):\n",
        "        p[j] = np.random.binomial(n = 1, p = (theta[j][i])/pi[i])\n",
        "      pix[:,i] = p\n",
        "\n",
        "    return np.transpose(pix)\n",
        "        \n",
        "\n",
        "def plot_images(images, ims_per_row=5, padding=5, image_dimensions=(28, 28),\n",
        "                cmap=matplotlib.cm.binary, vmin=0., vmax=1.):\n",
        "    \"\"\"Images should be a (N_images x pixels) matrix.\"\"\"\n",
        "    fig = plt.figure(1)\n",
        "    fig.clf()\n",
        "    ax = fig.add_subplot(111)\n",
        "\n",
        "    N_images = images.shape[0]\n",
        "    N_rows = np.int32(np.ceil(float(N_images) / ims_per_row))\n",
        "    pad_value = vmin\n",
        "    concat_images = np.full(((image_dimensions[0] + padding) * N_rows + padding,\n",
        "                             (image_dimensions[1] + padding) * ims_per_row + padding), pad_value)\n",
        "    for i in range(N_images):\n",
        "        cur_image = np.reshape(images[i, :], image_dimensions)\n",
        "        row_ix = i // ims_per_row\n",
        "        col_ix = i % ims_per_row\n",
        "        row_start = padding + (padding + image_dimensions[0]) * row_ix\n",
        "        col_start = padding + (padding + image_dimensions[1]) * col_ix\n",
        "        concat_images[row_start: row_start + image_dimensions[0],\n",
        "                      col_start: col_start + image_dimensions[1]] = cur_image\n",
        "        cax = ax.matshow(concat_images, cmap=cmap, vmin=vmin, vmax=vmax)\n",
        "        plt.xticks(np.array([]))\n",
        "        plt.yticks(np.array([]))\n",
        "    \n",
        "    plt.plot()\n",
        "\n",
        "\n",
        "sampled_images = image_sampler(theta_est, pi_est, 10)\n",
        "plot_images(sampled_images)"
      ],
      "metadata": {
        "id": "amV0qFMC3myy",
        "colab": {
          "base_uri": "https://localhost:8080/",
          "height": 178
        },
        "outputId": "6ac18a78-a31c-4327-a6d1-eee57328f7d2"
      },
      "execution_count": 8,
      "outputs": [
        {
          "output_type": "display_data",
          "data": {
            "text/plain": [
              "<Figure size 432x288 with 1 Axes>"
            ],
            "image/png": "[encoded data removed]"
          },
          "metadata": {}
        }
      ]
    },
    {
      "cell_type": "markdown",
      "source": [
        "## Q2.6\n",
        "[4pts] One of the advantages of generative models is that they can handle missing data, or be used to answer different sorts of questions about the model. Assume we have only observed some pixels of the image. Let $x_E = \\{x_p : \\text{pixel $p$ is observed}\\}$. Derive an expression for $p(x_j|x_E,\\theta,\\pi)$, the conditional probability of an unobserved pixel $j$ given the observed pixels and distribution parameters. (Hint: You have to marginalize over $c$.)"
      ],
      "metadata": {
        "id": "qCYQ6VVx5YI5"
      }
    },
    {
      "cell_type": "markdown",
      "source": [
        "\\begin{align}\n",
        "p(x_j|x_E, \\theta, \\pi) &= \\sum_cp(x_j|x_E,\\theta,\\pi, c_j)\\frac{p(x_E|\\theta, \\pi, c_d)p(c_d|\\pi)}{\\sum_{d=1}^{10}p(x_E|\\theta, \\pi, c_d)p(c_d|\\pi)}\\\\\n",
        "&= \\sum_cp(x_j|\\theta,\\pi, c_j)\\frac{p(x_E|\\theta, \\pi, c_d)p(c_d|\\pi)}{\\sum_{d=1}^{10}p(x_E|\\theta, \\pi, c_d)p(c_d|\\pi)}\\\\\n",
        "&= \\sum_cp(x_j|\\theta,\\pi, c_j)\\frac{p(x_E|\\theta, \\pi, c_d)\\pi_{c_d}}{\\sum_{d=1}^{10}p(x_E|\\theta, \\pi, c_d)\\pi_{c_d}}\n",
        "\\end{align}\n",
        "\n",
        "Your answer: $p(x_j|x_E, \\theta, \\pi) = \\sum_cp(x_j|\\theta,\\pi, c_j)\\frac{p(x_E|\\theta, \\pi, c_d)\\pi_{c_d}}{\\sum_{d=1}^{10}p(x_E|\\theta, \\pi, c_d)\\pi_{c_d}}$\n"
      ],
      "metadata": {
        "id": "GGT2yAtLOmJW"
      }
    },
    {
      "cell_type": "markdown",
      "source": [
        "## Q2.7\n",
        "[4pts] We assume that only 30% of the pixels are observed. For the first 20 images in the training set, plot the images when the unobserved pixels are left as white, as well as the same images when the unobserved pixels are filled with the marginal probability of the pixel being 1 given the observed pixels, i.e. the value of the unobserved pixel $j$ is $p(x_j = 1|x_E,\\theta,\\pi)$."
      ],
      "metadata": {
        "id": "5qGf4Rwx6ZPy"
      }
    },
    {
      "cell_type": "code",
      "source": [
        "def probabilistic_imputer(theta, pi, original_images, is_observed):\n",
        "    \"\"\"Inputs: parameters theta and pi, original_images (N_images x N_features), \n",
        "        and is_observed which has the same shape as original_images, with a value\n",
        "        1. in every observed entry and 0. in every unobserved entry.\n",
        "    Returns the new images where unobserved pixels are replaced by their \n",
        "    conditional probability\"\"\"\n",
        "    \n",
        "    # YOU NEED TO WRITE THIS PART\n",
        "    N = original_images.shape[0]\n",
        "    log_joint = np.array([np.sum(np.tile(np.log(theta[:, c]), (N, 1)) * (original_images * is_observed) \\\n",
        "                                 + np.tile(np.log(1 - theta[:, c]), (N, 1)) * ((1 - original_images) * is_observed), axis=1) \\\n",
        "                          + np.log(pi[c]) for c in range(len(pi))])\n",
        "    log_like = log_joint - np.tile(np.log(np.sum(np.exp(log_joint), axis=0)), (len(pi), 1))\n",
        "\n",
        "    classes = np.array([np.random.choice(len(pi), 1, p=np.exp(log_like[:,i]))[0] for i in range(N)])\n",
        "    imputed_images = (1 - is_observed) * theta[:, classes].T + is_observed * original_images\n",
        "    return imputed_images\n",
        "\n",
        "\n",
        "num_features = train_images.shape[1]\n",
        "is_observed = np.random.binomial(1, p=0.3, size=(20, num_features))\n",
        "plot_images(train_images[:20] * is_observed)"
      ],
      "metadata": {
        "id": "k8g40hvw6pE_",
        "colab": {
          "base_uri": "https://localhost:8080/",
          "height": 255
        },
        "outputId": "b8a6675b-96df-463b-dd21-680d4081a9db"
      },
      "execution_count": 10,
      "outputs": [
        {
          "output_type": "display_data",
          "data": {
            "text/plain": [
              "<Figure size 432x288 with 1 Axes>"
            ],
            "image/png": "[encoded data removed]"
          },
          "metadata": {}
        }
      ]
    },
    {
      "cell_type": "code",
      "source": [
        "imputed_images = probabilistic_imputer(theta_est, pi_est, train_images[:20], is_observed)\n",
        "plot_images(imputed_images)"
      ],
      "metadata": {
        "id": "RtOM8Ba4uVQj",
        "colab": {
          "base_uri": "https://localhost:8080/",
          "height": 187
        },
        "outputId": "3acdc7f8-df7f-4ffc-ec94-89e295ea95ca"
      },
      "execution_count": 2,
      "outputs": [
        {
          "output_type": "error",
          "ename": "NameError",
          "evalue": "ignored",
          "traceback": [
            "\u001b[0;31m---------------------------------------------------------------------------\u001b[0m",
            "\u001b[0;31mNameError\u001b[0m                                 Traceback (most recent call last)",
            "\u001b[0;32m<ipython-input-2-93e8a8026ded>\u001b[0m in \u001b[0;36m<module>\u001b[0;34m\u001b[0m\n\u001b[0;32m----> 1\u001b[0;31m \u001b[0mimputed_images\u001b[0m \u001b[0;34m=\u001b[0m \u001b[0mprobabilistic_imputer\u001b[0m\u001b[0;34m(\u001b[0m\u001b[0mtheta_est\u001b[0m\u001b[0;34m,\u001b[0m \u001b[0mpi_est\u001b[0m\u001b[0;34m,\u001b[0m \u001b[0mtrain_images\u001b[0m\u001b[0;34m[\u001b[0m\u001b[0;34m:\u001b[0m\u001b[0;36m20\u001b[0m\u001b[0;34m]\u001b[0m\u001b[0;34m,\u001b[0m \u001b[0mis_observed\u001b[0m\u001b[0;34m)\u001b[0m\u001b[0;34m\u001b[0m\u001b[0;34m\u001b[0m\u001b[0m\n\u001b[0m\u001b[1;32m      2\u001b[0m \u001b[0mplot_images\u001b[0m\u001b[0;34m(\u001b[0m\u001b[0mimputed_images\u001b[0m\u001b[0;34m)\u001b[0m\u001b[0;34m\u001b[0m\u001b[0;34m\u001b[0m\u001b[0m\n",
            "\u001b[0;31mNameError\u001b[0m: name 'probabilistic_imputer' is not defined"
          ]
        }
      ]
    },
    {
      "cell_type": "code",
      "source": [],
      "metadata": {
        "colab": {
          "base_uri": "https://localhost:8080/"
        },
        "id": "uqpG766az0L7",
        "outputId": "0f66ea4b-8140-4088-c804-85374f275a1f"
      },
      "execution_count": 12,
      "outputs": [
        {
          "output_type": "execute_result",
          "data": {
            "text/plain": [
              "array([0.09996166, 0.10001167, 0.10001167, 0.10001167, 0.10001167,\n",
              "       0.10001167, 0.099995  , 0.10001167, 0.09996166, 0.10001167])"
            ]
          },
          "metadata": {},
          "execution_count": 12
        }
      ]
    }
  ]
}